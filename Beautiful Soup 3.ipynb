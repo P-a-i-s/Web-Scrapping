{
 "cells": [
  {
   "cell_type": "code",
   "execution_count": 11,
   "metadata": {},
   "outputs": [
    {
     "name": "stdout",
     "output_type": "stream",
     "text": [
      "title = <span class=\"a-size-large\" id=\"productTitle\">\n",
      "                \n",
      "                    \n",
      "                    \n",
      "                \n",
      "\n",
      "                \n",
      "                    \n",
      "                    \n",
      "                        Scott Men's Premium Cotton Round Neck T-shirt\n",
      "                    \n",
      "                \n",
      "\n",
      "                \n",
      "                    \n",
      "                    \n",
      "                \n",
      "            </span>\n",
      "descriptions = <span class=\"a-list-item\">\n",
      "<a class=\"a-link-normal a-color-tertiary\" href=\"/Clothing-accesories/b/ref=dp_bc_1/260-0361965-4151664?ie=UTF8&amp;node=1571271031\">\n",
      "                Clothing &amp; Accessories\n",
      "            </a>\n",
      "</span>\n"
     ]
    }
   ],
   "source": [
    "from bs4 import BeautifulSoup\n",
    "import requests\n",
    "url = \"https://www.amazon.in/Scott-Premium-Cotton-Round-T-shirt/dp/B06XHD9NKS/ref=sr_1_1?s=apparel&rps=1&ie=UTF8&qid=1505468115&sr=1-1&nodeID=1968120031&psd=1&keywords=round&refinements=p_98%3A10440597031\"\n",
    "\n",
    "# add header\n",
    "headers = {'User-Agent': 'Mozilla/5.0 (Windows NT 6.3; Win64; x64) AppleWebKit/537.36 (KHTML, like Gecko) Chrome/54.0.2840.71 Safari/537.36'}\n",
    "r = requests.get(url, headers=headers)\n",
    "soup = BeautifulSoup(r.content, \"lxml\")\n",
    "title = soup.find(\"span\", {\"id\": \"productTitle\"})\n",
    "descriptions = soup.find(\"span\", {\"class\": \"a-list-item\"})\n",
    "print(\"title = %s\" % title)\n",
    "print(\"descriptions = %s\" % descriptions)\n"
   ]
  },
  {
   "cell_type": "code",
   "execution_count": null,
   "metadata": {
    "collapsed": true
   },
   "outputs": [],
   "source": []
  }
 ],
 "metadata": {
  "kernelspec": {
   "display_name": "Python 3",
   "language": "python",
   "name": "python3"
  },
  "language_info": {
   "codemirror_mode": {
    "name": "ipython",
    "version": 3
   },
   "file_extension": ".py",
   "mimetype": "text/x-python",
   "name": "python",
   "nbconvert_exporter": "python",
   "pygments_lexer": "ipython3",
   "version": "3.6.1"
  }
 },
 "nbformat": 4,
 "nbformat_minor": 2
}
